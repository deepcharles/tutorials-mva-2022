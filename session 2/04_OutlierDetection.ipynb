{
 "cells": [
  {
   "cell_type": "markdown",
   "metadata": {},
   "source": [
    "**Machine Learning for Time Series (Master MVA)**\n",
    "\n",
    "- Tutorial 4, Friday 11<sup>th</sup> February 2022\n",
    "- [Link to the class material.](http://www.laurentoudre.fr/ast.html)"
   ]
  },
  {
   "cell_type": "markdown",
   "metadata": {},
   "source": [
    "# Introduction\n",
    "\n",
    "In this tutorial, we illustrate the following concepts:\n",
    "\n",
    "- outlier detection/removal,\n",
    "- matrix profile."
   ]
  },
  {
   "cell_type": "code",
   "execution_count": null,
   "metadata": {},
   "outputs": [],
   "source": [
    "import datetime as dt\n",
    "\n",
    "import matplotlib.pyplot as plt\n",
    "import numpy as np\n",
    "import pandas as pd\n",
    "from loadmydata.load_nyc_taxi import load_nyc_taxi_dataset\n",
    "from numpy.fft import rfft, rfftfreq\n",
    "from numpy.polynomial.polynomial import Polynomial\n",
    "from scipy.signal import butter, sosfilt\n",
    "from scipy.spatial.distance import pdist, squareform\n",
    "from sklearn.preprocessing import StandardScaler"
   ]
  },
  {
   "cell_type": "code",
   "execution_count": null,
   "metadata": {},
   "outputs": [],
   "source": [
    "try:\n",
    "    from numpy.lib.stride_tricks import \\\n",
    "        sliding_window_view  # New in version 1.20.0\n",
    "\n",
    "    def get_trajectory_matrix(arr, window_shape, jump=1):\n",
    "        return sliding_window_view(x=arr, window_shape=window_shape)[::jump]\n",
    "\n",
    "\n",
    "except ImportError:\n",
    "\n",
    "    def get_trajectory_matrix(arr, window_shape, jump=1):\n",
    "        n_rows = ((arr.size - window_shape) // jump) + 1\n",
    "        n = arr.strides[0]\n",
    "        return np.lib.stride_tricks.as_strided(\n",
    "            arr, shape=(n_rows, window_shape), strides=(jump * n, n)\n",
    "        )"
   ]
  },
  {
   "cell_type": "code",
   "execution_count": null,
   "metadata": {},
   "outputs": [],
   "source": [
    "def fig_ax(figsize=(15, 5)):\n",
    "    return plt.subplots(figsize=figsize)"
   ]
  },
  {
   "cell_type": "code",
   "execution_count": null,
   "metadata": {},
   "outputs": [],
   "source": [
    "def fill_band(array2D: np.ndarray, width: int = 1, value=0) -> np.ndarray:\n",
    "    \"\"\"Fill thick diagonal band of a matrix with value\"\"\"\n",
    "    n_rows, n_cols = array2D.shape\n",
    "    distance_from_diag = np.abs(\n",
    "        np.add.outer(np.arange(n_rows), -np.arange(n_cols))\n",
    "    )\n",
    "    array2D[distance_from_diag <= width] = value\n",
    "    return array2D"
   ]
  },
  {
   "cell_type": "markdown",
   "metadata": {},
   "source": [
    "## Outliers detection/removal"
   ]
  },
  {
   "cell_type": "code",
   "execution_count": null,
   "metadata": {},
   "outputs": [],
   "source": [
    "X, _, description = load_nyc_taxi_dataset()\n",
    "\n",
    "print(description)"
   ]
  },
  {
   "cell_type": "code",
   "execution_count": null,
   "metadata": {},
   "outputs": [],
   "source": [
    "original_calendar_time_array = X.timestamp.to_numpy()\n",
    "original_taxi_count_np = X.taxi_count.to_numpy()"
   ]
  },
  {
   "cell_type": "code",
   "execution_count": null,
   "metadata": {},
   "outputs": [],
   "source": [
    "daily_taxi_count = X.resample(\"1D\", on=\"timestamp\").sum()\n",
    "daily_taxi_count_np = daily_taxi_count.to_numpy().squeeze()\n",
    "calendar_time_array = daily_taxi_count.index.to_numpy()\n",
    "n_samples = daily_taxi_count_np.size\n",
    "fig, ax = fig_ax()\n",
    "ax.plot(daily_taxi_count, \"*-\")\n",
    "_ = ax.set_ylim(0)"
   ]
  },
  {
   "cell_type": "markdown",
   "metadata": {},
   "source": [
    "### Distribution\n",
    "\n",
    "On the original data."
   ]
  },
  {
   "cell_type": "code",
   "execution_count": null,
   "metadata": {},
   "outputs": [],
   "source": [
    "quantile_threshold_low, quantile_threshold_high = 0.25, 0.75\n",
    "\n",
    "fig, ax = fig_ax()\n",
    "_ = ax.hist(daily_taxi_count_np, 20)\n",
    "\n",
    "threshold_low, threshold_high = np.quantile(\n",
    "    daily_taxi_count_np, [quantile_threshold_low, quantile_threshold_high]\n",
    ")\n",
    "\n",
    "_ = ax.axvline(threshold_low, ls=\"--\", color=\"k\")\n",
    "_ = ax.axvline(threshold_high, ls=\"--\", color=\"k\")"
   ]
  },
  {
   "cell_type": "markdown",
   "metadata": {},
   "source": [
    "<div class=\"alert alert-success\" role=\"alert\">\n",
    "    <p><b>Question</b></p>\n",
    "    <p>In the previous cell, modify <tt>quantile_threshold_low</tt> and <tt>quantile_threshold_high</tt> to only exclude outliers.</p>\n",
    "</div>"
   ]
  },
  {
   "cell_type": "markdown",
   "metadata": {},
   "source": [
    "Plot the outliers directly on the signal."
   ]
  },
  {
   "cell_type": "code",
   "execution_count": null,
   "metadata": {},
   "outputs": [],
   "source": [
    "fig, ax = fig_ax()\n",
    "ax.plot(\n",
    "    calendar_time_array, daily_taxi_count_np, \"*-\", label=\"Daily taxi count\"\n",
    ")\n",
    "\n",
    "outlier_mask = (daily_taxi_count_np < threshold_low) | (\n",
    "    daily_taxi_count_np > threshold_high\n",
    ")\n",
    "\n",
    "ax.plot(\n",
    "    calendar_time_array[outlier_mask],\n",
    "    daily_taxi_count_np[outlier_mask],\n",
    "    \"*\",\n",
    "    label=\"Outliers\",\n",
    ")\n",
    "\n",
    "plt.legend()\n",
    "_ = ax.set_ylim(0)"
   ]
  },
  {
   "cell_type": "markdown",
   "metadata": {},
   "source": [
    "<div class=\"alert alert-success\" role=\"alert\">\n",
    "    <p><b>Question</b></p>\n",
    "    <p>Repeat the same procedure on the distribution of the previous seasonal fit.</p>\n",
    "</div>"
   ]
  },
  {
   "cell_type": "code",
   "execution_count": null,
   "metadata": {},
   "outputs": [],
   "source": [
    "approx_seasonal = ...\n",
    "residual_signal = ..."
   ]
  },
  {
   "cell_type": "code",
   "execution_count": null,
   "metadata": {},
   "outputs": [],
   "source": [
    "quantile_threshold_low, quantile_threshold_high = 0.05, 0.99\n",
    "\n",
    "threshold_low, threshold_high = np.quantile(\n",
    "    residual_signal, [quantile_threshold_low, quantile_threshold_high]\n",
    ")\n",
    "\n",
    "fig, (ax_0, ax_1) = plt.subplots(\n",
    "    1, 2, gridspec_kw={\"width_ratios\": [1, 2]}, figsize=(20, 5)\n",
    ")\n",
    "\n",
    "ax_0.hist(residual_signal, 20)\n",
    "_ = ax_0.axvline(threshold_low, ls=\"--\", color=\"k\")\n",
    "_ = ax_0.axvline(threshold_high, ls=\"--\", color=\"k\")\n",
    "\n",
    "ax_1.plot(daily_taxi_count_np, label=\"Original\")\n",
    "ax_1.plot(approx_seasonal, label=\"Seasonal component\")\n",
    "ax_1.plot(residual_signal, label=\"Residual\")\n",
    "_ = ax_1.axhline(threshold_low, ls=\"--\", color=\"k\")\n",
    "_ = ax_1.axhline(threshold_high, ls=\"--\", color=\"k\")\n",
    "_ = plt.legend()"
   ]
  },
  {
   "cell_type": "code",
   "execution_count": null,
   "metadata": {},
   "outputs": [],
   "source": [
    "fig, ax = fig_ax()\n",
    "ax.plot(\n",
    "    calendar_time_array, daily_taxi_count_np, \"*-\", label=\"Daily taxi count\"\n",
    ")\n",
    "outlier_mask = (residual_signal < threshold_low) | (\n",
    "    residual_signal > threshold_high\n",
    ")\n",
    "ax.plot(\n",
    "    calendar_time_array[outlier_mask],\n",
    "    daily_taxi_count_np[outlier_mask],\n",
    "    \"*\",\n",
    "    label=\"Outliers\",\n",
    ")\n",
    "\n",
    "plt.legend()\n",
    "_ = ax.set_ylim(0)"
   ]
  },
  {
   "cell_type": "markdown",
   "metadata": {},
   "source": [
    "This method can be extended for any type of signal approximation (SSA, polynomial, smoothing, etc.)"
   ]
  },
  {
   "cell_type": "markdown",
   "metadata": {},
   "source": [
    "### Matrix profile\n",
    "\n",
    "Informally, an outlier is a motif that only appears once a signal.\n",
    "The distance of this particular pattern from all other patterns is large.\n",
    "\n",
    "Algorithmically:\n",
    "\n",
    "- Extract the trajectory matrix.\n",
    "- Compute the pairwise distances between all patterns.\n",
    "- Set to Inf the distance between patterns that overlap.\n",
    "- Take the minimum pairwise distance for each pattern (the profile)\n",
    "\n",
    "\n",
    "Then we apply outlier detection on the profile."
   ]
  },
  {
   "cell_type": "code",
   "execution_count": null,
   "metadata": {},
   "outputs": [],
   "source": [
    "window_shape = 7\n",
    "quantile_threshold_high = 0.9"
   ]
  },
  {
   "cell_type": "code",
   "execution_count": null,
   "metadata": {},
   "outputs": [],
   "source": [
    "# extract the trajectory matrix\n",
    "trajectory_matrix = get_trajectory_matrix(\n",
    "    arr=daily_taxi_count_np, window_shape=window_shape\n",
    ")\n",
    "\n",
    "# compute distance matrix\n",
    "distance_matrix = squareform(pdist(trajectory_matrix, metric=\"correlation\"))\n",
    "plt.imshow(distance_matrix)"
   ]
  },
  {
   "cell_type": "code",
   "execution_count": null,
   "metadata": {},
   "outputs": [],
   "source": [
    "# set to inf the overlapping windows\n",
    "distance_matrix = fill_band(distance_matrix, window_shape, np.inf)\n",
    "plt.imshow(distance_matrix)"
   ]
  },
  {
   "cell_type": "code",
   "execution_count": null,
   "metadata": {},
   "outputs": [],
   "source": [
    "# compute profile\n",
    "profile = distance_matrix.min(axis=1)"
   ]
  },
  {
   "cell_type": "markdown",
   "metadata": {},
   "source": [
    "We can now do outlier detection on the profile"
   ]
  },
  {
   "cell_type": "code",
   "execution_count": null,
   "metadata": {},
   "outputs": [],
   "source": [
    "# get threshold\n",
    "threshold_high = np.quantile(profile, quantile_threshold_high)\n",
    "\n",
    "\n",
    "# plot results\n",
    "fig, (ax_0, ax_1) = plt.subplots(\n",
    "    1, 2, gridspec_kw={\"width_ratios\": [1, 2]}, figsize=(20, 5)\n",
    ")\n",
    "\n",
    "ax_0.plot(profile)\n",
    "ax_0.axhline(threshold_high, ls=\"--\", color=\"k\")\n",
    "\n",
    "ax_1.plot(\n",
    "    calendar_time_array, daily_taxi_count_np, \"*-\", label=\"Daily taxi count\"\n",
    ")\n",
    "outlier_mask = profile > threshold_high\n",
    "offset = window_shape - 1\n",
    "ax_1.plot(\n",
    "    calendar_time_array[:-offset][outlier_mask],\n",
    "    daily_taxi_count_np[:-offset][outlier_mask],\n",
    "    \"*\",\n",
    "    label=\"Outliers\",\n",
    ")\n",
    "_ = plt.legend()"
   ]
  },
  {
   "cell_type": "markdown",
   "metadata": {},
   "source": [
    "<div class=\"alert alert-success\" role=\"alert\">\n",
    "    <p><b>Question</b></p>\n",
    "    <p>Repeat the same experiment on the original (not daily) signal for windows of one day, two days and a week. \n",
    "    Report the dates that you find interesting.</p>\n",
    "</div>"
   ]
  },
  {
   "cell_type": "code",
   "execution_count": null,
   "metadata": {},
   "outputs": [],
   "source": []
  }
 ],
 "metadata": {
  "kernelspec": {
   "display_name": "Python 3",
   "language": "python",
   "name": "python3"
  },
  "language_info": {
   "codemirror_mode": {
    "name": "ipython",
    "version": 3
   },
   "file_extension": ".py",
   "mimetype": "text/x-python",
   "name": "python",
   "nbconvert_exporter": "python",
   "pygments_lexer": "ipython3",
   "version": "3.9.5"
  },
  "toc-autonumbering": true
 },
 "nbformat": 4,
 "nbformat_minor": 4
}
